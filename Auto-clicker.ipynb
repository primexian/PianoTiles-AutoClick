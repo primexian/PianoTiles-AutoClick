{
 "cells": [
  {
   "cell_type": "code",
   "execution_count": 1,
   "id": "801c6b15",
   "metadata": {},
   "outputs": [],
   "source": [
    "import numpy as np   #This takes array into multidimensions \n",
    "from PIL import Image,ImageGrab #This allows us to take snapshot of screen in every pixel as entire screen is copied\n",
    "import cv2\n",
    "import time\n",
    "import math\n",
    "from directKeys import click, queryMousePosition\n"
   ]
  },
  {
   "cell_type": "code",
   "execution_count": 2,
   "id": "8573aca1",
   "metadata": {},
   "outputs": [],
   "source": [
    "#im1 = Image.open(r\"C:\\Users\\primexian\\Desktop\\NO Mustang\\Memes\\Trihard7.jpg\")\n",
    "#smaller_coordinates = = [657, 800, 1262, 802]\n",
    "im2 = ImageGrab.grab(bbox = (656, 32, 1250, 1037))\n",
    "#im2 = ImageGrab.grab(bbox = None)\n",
    "im2.show()\n",
    "game_coordinate_on_screen = [656, 32, 1250, 1037]\n",
    "score = 0\n",
    "previousLane = -1\n",
    "#betterCoordinates = [657, 800, 1262, 802] #x,y,x,y\n",
    "#we can improve the runtime by using smaller coordinates e.g [657, 800, 1262, 802] where y is only increase by 2. \n",
    "\n",
    "## This is just to capture where the game is from the screen from first monitor ##"
   ]
  },
  {
   "cell_type": "code",
   "execution_count": 3,
   "id": "da27b19e",
   "metadata": {},
   "outputs": [],
   "source": [
    "def auto_clicker(grayScreen):  #this allows us to read the greyscreen image and click the grey areas from screen capture\n",
    "    global game_coordinate_on_screen, score, previousLane #we passes np arrary btw with grayscale \n",
    "    for points in range(5,len(grayScreen) -5, 5):\n",
    "        for i in range(4): #in 4 columns \n",
    "            if previousLane == i:\n",
    "                continue\n",
    "            w = game_coordinate_on_screen[2] - game_coordinate_on_screen[0]\n",
    "            x = i * w / 4 + w / 8  #so you click in the middle of the tile for each 4 columns.\n",
    "            y = len(grayScreen) - points \n",
    "            if grayScreen[y][x] < 40:\n",
    "                actualX = x + game_coordinate_on_screen[0]\n",
    "                actualY = y + game_coordinate_on_screen[1]\n",
    "                score += 1\n",
    "                if score > 1000:\n",
    "                    actualY += 10\n",
    "                if score > 1250:\n",
    "                    actualY += 10\n",
    "                if score > 1450:\n",
    "                    actualY += 10\n",
    "                if score > 1600:\n",
    "                    actualY += 20\n",
    "                for k in range(1700, 2500):\n",
    "                    if score > k:\n",
    "                        actualY += 10\n",
    "                    else:\n",
    "                        break\n",
    "                click(actualX, actualY)\n",
    "                previousLane = i \n",
    "                \n",
    "                return\n",
    "                \n",
    "    \n",
    "    \n",
    "    "
   ]
  },
  {
   "cell_type": "code",
   "execution_count": null,
   "id": "7b4e8e2d",
   "metadata": {},
   "outputs": [],
   "source": [
    "while True:\n",
    "    mouse_position = queryMousePosition()\n",
    "    if mouse_position.x < 0:\n",
    "        break\n",
    "    "
   ]
  },
  {
   "cell_type": "code",
   "execution_count": null,
   "id": "9ad7505d",
   "metadata": {},
   "outputs": [],
   "source": [
    "while True: \n",
    "    mouse_position = queryMousePosition()\n",
    "    \n",
    "    if game_coordinate_on_screen[2] > mouse_position.x > game_coordinate_on_screen[0]:\n",
    "        start = time.time() #start the time if mouse is in between first x and second x coordinates \n",
    "        screen = np.array(ImageGrab.grab(bbox = (656, 32, 1250, 1037))) #I believe we take screenshot everytime mouse in the positions \n",
    "        screen = cv2.cvtColor(screen,cv2.COLOR_BGR2GRAY ) #Converting an image to gray scale\n",
    "        auto_clicker(screen) #we pass the grey scale image to the function.\n",
    "        print(\"This whole process took {} seconds. Up to frame no{}\".format((time.time()-start), \"cool\") )\n",
    "    else:\n",
    "        if mouse_position.x < 0:\n",
    "            score = 0\n",
    "            while True:\n",
    "                mouse_position = queryMousePosition()\n",
    "                if game_coordinate_on_screen[2] < mouse_position.x:\n",
    "                    break\n",
    "        "
   ]
  },
  {
   "cell_type": "code",
   "execution_count": null,
   "id": "618efef4",
   "metadata": {},
   "outputs": [],
   "source": []
  }
 ],
 "metadata": {
  "kernelspec": {
   "display_name": "Python 3",
   "language": "python",
   "name": "python3"
  },
  "language_info": {
   "codemirror_mode": {
    "name": "ipython",
    "version": 3
   },
   "file_extension": ".py",
   "mimetype": "text/x-python",
   "name": "python",
   "nbconvert_exporter": "python",
   "pygments_lexer": "ipython3",
   "version": "3.8.8"
  }
 },
 "nbformat": 4,
 "nbformat_minor": 5
}
